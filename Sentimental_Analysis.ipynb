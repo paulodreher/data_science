{
  "nbformat": 4,
  "nbformat_minor": 0,
  "metadata": {
    "colab": {
      "provenance": [],
      "include_colab_link": true
    },
    "kernelspec": {
      "name": "python3",
      "display_name": "Python 3"
    },
    "widgets": {
      "application/vnd.jupyter.widget-state+json": {
        "48ff051bf94841228e2c299d05361aaa": {
          "model_module": "@jupyter-widgets/controls",
          "model_name": "HBoxModel",
          "state": {
            "_view_name": "HBoxView",
            "_dom_classes": [],
            "_model_name": "HBoxModel",
            "_view_module": "@jupyter-widgets/controls",
            "_model_module_version": "1.5.0",
            "_view_count": null,
            "_view_module_version": "1.5.0",
            "box_style": "",
            "layout": "IPY_MODEL_35724cc2c5c34ee0ae97bb677c515032",
            "_model_module": "@jupyter-widgets/controls",
            "children": [
              "IPY_MODEL_e2066492ac38456f9993a7ae594ba3b4",
              "IPY_MODEL_7d8d0ae03b5040248b5a560b205e49ae"
            ]
          },
          "model_module_version": "1.5.0"
        },
        "8712985c116a4cda963ddf4767361a35": {
          "model_module": "@jupyter-widgets/controls",
          "model_name": "HBoxModel",
          "state": {
            "_view_name": "HBoxView",
            "_dom_classes": [],
            "_model_name": "HBoxModel",
            "_view_module": "@jupyter-widgets/controls",
            "_model_module_version": "1.5.0",
            "_view_count": null,
            "_view_module_version": "1.5.0",
            "box_style": "",
            "layout": "IPY_MODEL_723dea86db5841ac99b2007009726e3a",
            "_model_module": "@jupyter-widgets/controls",
            "children": [
              "IPY_MODEL_71c6fdcbdfe94758b5b34ada3073361a",
              "IPY_MODEL_dbab8187d47f4bb6b8272413225230e9"
            ]
          },
          "model_module_version": "1.5.0"
        }
      }
    }
  },
  "cells": [
    {
      "cell_type": "markdown",
      "metadata": {
        "id": "view-in-github",
        "colab_type": "text"
      },
      "source": [
        "<a href=\"https://colab.research.google.com/github/paulodreher/data_science/blob/main/Sentimental_Analysis.ipynb\" target=\"_parent\"><img src=\"https://colab.research.google.com/assets/colab-badge.svg\" alt=\"Open In Colab\"/></a>"
      ]
    },
    {
      "cell_type": "code",
      "metadata": {
        "id": "kFoiCcIIh2T3",
        "outputId": "b8da4406-a217-47c0-b5f2-65516dff13db",
        "colab": {
          "base_uri": "https://localhost:8080/",
          "height": 34
        }
      },
      "source": [
        "from google.colab import drive\n",
        "drive.mount('/content/drive')"
      ],
      "execution_count": null,
      "outputs": [
        {
          "output_type": "stream",
          "text": [
            "Drive already mounted at /content/drive; to attempt to forcibly remount, call drive.mount(\"/content/drive\", force_remount=True).\n"
          ],
          "name": "stdout"
        }
      ]
    },
    {
      "cell_type": "code",
      "metadata": {
        "id": "x_XDUQ7ef8vP"
      },
      "source": [
        "import nltk\n",
        "nltk.download()"
      ],
      "execution_count": null,
      "outputs": []
    },
    {
      "cell_type": "code",
      "metadata": {
        "id": "qJB_TEIUiFBQ"
      },
      "source": [
        "import os\n",
        "import pandas as pd\n",
        "import numpy as np\n",
        "import bs4\n",
        "import re\n",
        "from unicodedata import normalize\n",
        "from nltk.corpus import stopwords\n",
        "import operator\n",
        "from keras.preprocessing import sequence\n",
        "from keras.utils import to_categorical\n",
        "from tqdm import tqdm_notebook, tqdm\n",
        "from sklearn.model_selection import train_test_split\n",
        "from keras.callbacks import *\n",
        "import re\n",
        "import unicodedata"
      ],
      "execution_count": null,
      "outputs": []
    },
    {
      "cell_type": "code",
      "metadata": {
        "id": "yMzod3dLiqyQ"
      },
      "source": [
        "#sentimental_data = pd.read_csv('/content/drive/My Drive/Pos/Machine Learning II/Tripadvisor_SampleData.csv',delimiter=',')"
      ],
      "execution_count": null,
      "outputs": []
    },
    {
      "cell_type": "code",
      "metadata": {
        "id": "g3Y6Wix2zytA"
      },
      "source": [
        "sentimental_data = pd.read_csv('/content/drive/My Drive/Pos/Topicos II/Review.csv', encoding = 'utf-8', delimiter=',', usecols=[0,1])"
      ],
      "execution_count": null,
      "outputs": []
    },
    {
      "cell_type": "code",
      "metadata": {
        "id": "0N5YlWygy0b0",
        "outputId": "bf55ebc8-0e1d-4878-bbbf-528026f6fb05",
        "colab": {
          "base_uri": "https://localhost:8080/",
          "height": 136
        }
      },
      "source": [
        "sentimental_data.info()"
      ],
      "execution_count": null,
      "outputs": [
        {
          "output_type": "stream",
          "text": [
            "<class 'pandas.core.frame.DataFrame'>\n",
            "RangeIndex: 10000 entries, 0 to 9999\n",
            "Data columns (total 2 columns):\n",
            "sentiment    10000 non-null object\n",
            "review       10000 non-null object\n",
            "dtypes: object(2)\n",
            "memory usage: 156.4+ KB\n"
          ],
          "name": "stdout"
        }
      ]
    },
    {
      "cell_type": "code",
      "metadata": {
        "id": "fyfIqpMpjQzG"
      },
      "source": [
        "def preprocessing_data(filepath, topwords, maxlen):\n",
        "\n",
        "    sentimental_data = pd.read_csv(filepath, delimiter=',')\n",
        "\n",
        "    reviews = []\n",
        "\n",
        "    pbar = tqdm_notebook(total=len(sentimental_data))\n",
        "    for review in sentimental_data['review']:\n",
        "        # Remover tags HTML\n",
        "        review_text = bs4.BeautifulSoup(review, 'html.parser').get_text()\n",
        "\n",
        "        # Remover caracteres especiais, pontuacao e numeros\n",
        "        content = unicodedata.normalize('NFKD',review_text)\n",
        "        encoded_content = content.encode('ASCII','ignore')\n",
        "        review_text = encoded_content.decode('utf-8')\n",
        "        review_text = re.sub(r'[!@#$:).;,?&]',' ', review_text)\n",
        "        review_text = re.sub('[^a-zA-Z]', ' ', review_text)\n",
        "\n",
        "        # Converter para caixa baixa\n",
        "        review_text = review_text.lower()\n",
        "\n",
        "        # Vetorizar o comentário\n",
        "        review_words = review_text.split()\n",
        "\n",
        "        # Remover stopwords\n",
        "        stops = set(stopwords.words('english'))\n",
        "\n",
        "        meaningful_words = [word for word in review_words if not word in stops]\n",
        "\n",
        "        reviews.append(meaningful_words)\n",
        "        pbar.update(1)\n",
        "\n",
        "    # Construindo dicionário de frequencia\n",
        "    freq_dict = {}\n",
        "\n",
        "    for review in reviews:\n",
        "        for word in review:\n",
        "            if not word in freq_dict:\n",
        "                freq_dict[word] = 0\n",
        "            freq_dict[word] += 1\n",
        "\n",
        "    # Selecionar as top-K palavras (jeito inteligente Ass: carlos)\n",
        "    sorted_tup = sorted(freq_dict.items(), key=operator.itemgetter(1), reverse=True)\n",
        "\n",
        "    word_to_id = {}\n",
        "    cnt = topwords - 1\n",
        "    # Top-K palavras\n",
        "    for i in sorted_tup[:topwords]:\n",
        "        word_to_id[i[0]] = cnt\n",
        "        cnt -= 1\n",
        "    # Restante\n",
        "    for i in sorted_tup[topwords:]:\n",
        "        word_to_id[i[0]] = 0\n",
        "\n",
        "    # Mapeando palavras para um id do dicionário\n",
        "    processed_data = []\n",
        "\n",
        "    for review in reviews:\n",
        "        aux = []\n",
        "        for word in review:\n",
        "            aux.append(word_to_id[word])\n",
        "\n",
        "        processed_data.append(aux)\n",
        "\n",
        "    # Realizando o padding dos comentarios\n",
        "    ## importar sequence de keras.preprocessing\n",
        "    processed_data = np.asarray(processed_data)\n",
        "    processed_data = sequence.pad_sequences(processed_data, maxlen)\n",
        "\n",
        "    sentiment = sentimental_data['sentiment'].get_values()\n",
        "\n",
        "    stars = []\n",
        "    for i in range(len(sentiment)):\n",
        "      if sentiment[i] == 'Negative':\n",
        "        stars.append(0)\n",
        "      else:\n",
        "        stars.append(1)\n",
        "\n",
        "    stars = to_categorical(stars)\n",
        "\n",
        "\n",
        "    return processed_data, stars, word_to_id"
      ],
      "execution_count": null,
      "outputs": []
    },
    {
      "cell_type": "code",
      "metadata": {
        "id": "fYwe-cuKjnTn",
        "colab": {
          "base_uri": "https://localhost:8080/",
          "height": 54,
          "referenced_widgets": [
            "48ff051bf94841228e2c299d05361aaa",
            "35724cc2c5c34ee0ae97bb677c515032",
            "e2066492ac38456f9993a7ae594ba3b4",
            "7d8d0ae03b5040248b5a560b205e49ae"
          ]
        },
        "outputId": "dc90a484-d38c-48f3-a3a2-0e7b63108b1e"
      },
      "source": [
        "#data, target, word_to_id = preprocessing_data('/content/drive/My Drive/Pos/Machine Learning II/Tripadvisor_SampleData.csv', 5000, 100)"
      ],
      "execution_count": null,
      "outputs": [
        {
          "output_type": "display_data",
          "data": {
            "application/vnd.jupyter.widget-view+json": {
              "model_id": "48ff051bf94841228e2c299d05361aaa",
              "version_minor": 0,
              "version_major": 2
            },
            "text/plain": [
              "HBox(children=(IntProgress(value=0, max=11149), HTML(value='')))"
            ]
          },
          "metadata": {
            "tags": []
          }
        },
        {
          "output_type": "stream",
          "text": [
            "/usr/local/lib/python3.6/dist-packages/ipykernel_launcher.py:70: FutureWarning: The 'get_values' method is deprecated and will be removed in a future version. Use '.to_numpy()' or '.array' instead.\n"
          ],
          "name": "stderr"
        }
      ]
    },
    {
      "cell_type": "code",
      "metadata": {
        "id": "tqEm2h4O0L-4",
        "colab": {
          "base_uri": "https://localhost:8080/",
          "height": 54,
          "referenced_widgets": [
            "8712985c116a4cda963ddf4767361a35",
            "723dea86db5841ac99b2007009726e3a",
            "71c6fdcbdfe94758b5b34ada3073361a",
            "dbab8187d47f4bb6b8272413225230e9"
          ]
        },
        "outputId": "070001de-f94e-4a01-952b-8632cfafd550"
      },
      "source": [
        "data, target, word_to_id = preprocessing_data('/content/drive/My Drive/Pos/Topicos II/Review.csv', 5000, 100)"
      ],
      "execution_count": null,
      "outputs": [
        {
          "output_type": "display_data",
          "data": {
            "application/vnd.jupyter.widget-view+json": {
              "model_id": "8712985c116a4cda963ddf4767361a35",
              "version_minor": 0,
              "version_major": 2
            },
            "text/plain": [
              "HBox(children=(IntProgress(value=0, max=10000), HTML(value='')))"
            ]
          },
          "metadata": {
            "tags": []
          }
        },
        {
          "output_type": "stream",
          "text": [
            "/usr/local/lib/python3.6/dist-packages/ipykernel_launcher.py:70: FutureWarning: The 'get_values' method is deprecated and will be removed in a future version. Use '.to_numpy()' or '.array' instead.\n"
          ],
          "name": "stderr"
        }
      ]
    },
    {
      "cell_type": "code",
      "metadata": {
        "id": "FdFt50-43Igy",
        "colab": {
          "base_uri": "https://localhost:8080/",
          "height": 34
        },
        "outputId": "26dde6bf-d734-4017-eef7-d0cc8a4e7cbb"
      },
      "source": [
        "data.shape"
      ],
      "execution_count": null,
      "outputs": [
        {
          "output_type": "execute_result",
          "data": {
            "text/plain": [
              "(10000, 100)"
            ]
          },
          "metadata": {
            "tags": []
          },
          "execution_count": 62
        }
      ]
    },
    {
      "cell_type": "code",
      "metadata": {
        "id": "GZFh3BAF4rgc",
        "colab": {
          "base_uri": "https://localhost:8080/",
          "height": 136
        },
        "outputId": "369a536f-868b-40bc-ee96-579de9c8945e"
      },
      "source": [
        "target"
      ],
      "execution_count": null,
      "outputs": [
        {
          "output_type": "execute_result",
          "data": {
            "text/plain": [
              "array([[1., 0.],\n",
              "       [1., 0.],\n",
              "       [1., 0.],\n",
              "       ...,\n",
              "       [0., 1.],\n",
              "       [0., 1.],\n",
              "       [0., 1.]], dtype=float32)"
            ]
          },
          "metadata": {
            "tags": []
          },
          "execution_count": 47
        }
      ]
    },
    {
      "cell_type": "markdown",
      "metadata": {
        "id": "Ew-kf1y_nUaO"
      },
      "source": [
        "<h1>Criando o Modelo</h1>"
      ]
    },
    {
      "cell_type": "code",
      "metadata": {
        "id": "woJvYfcRndOO"
      },
      "source": [
        "from keras.models import Model\n",
        "from keras.layers import *"
      ],
      "execution_count": null,
      "outputs": []
    },
    {
      "cell_type": "code",
      "metadata": {
        "id": "Zv-OocKWnhlA",
        "outputId": "e99f529d-f2f8-4fd8-b9ac-fd44f0831d61",
        "colab": {
          "base_uri": "https://localhost:8080/",
          "height": 357
        }
      },
      "source": [
        "input_node = Input(shape=(100,))\n",
        "\n",
        "embedding = Embedding(input_dim=5000,\n",
        "                      input_length=100,\n",
        "                      output_dim=32)(input_node)\n",
        "dropout = Dropout(0.5)(embedding)\n",
        "lstm_1 = LSTM(100)(dropout)\n",
        "dropout = Dropout(0.5)(lstm_1)\n",
        "fc1 = Dense(2, activation='softmax')(dropout)\n",
        "\n",
        "model = Model(input_node, fc1)\n",
        "model.summary()"
      ],
      "execution_count": null,
      "outputs": [
        {
          "output_type": "stream",
          "text": [
            "Model: \"model_4\"\n",
            "_________________________________________________________________\n",
            "Layer (type)                 Output Shape              Param #   \n",
            "=================================================================\n",
            "input_4 (InputLayer)         (None, 100)               0         \n",
            "_________________________________________________________________\n",
            "embedding_4 (Embedding)      (None, 100, 32)           160000    \n",
            "_________________________________________________________________\n",
            "dropout_7 (Dropout)          (None, 100, 32)           0         \n",
            "_________________________________________________________________\n",
            "lstm_4 (LSTM)                (None, 100)               53200     \n",
            "_________________________________________________________________\n",
            "dropout_8 (Dropout)          (None, 100)               0         \n",
            "_________________________________________________________________\n",
            "dense_4 (Dense)              (None, 2)                 202       \n",
            "=================================================================\n",
            "Total params: 213,402\n",
            "Trainable params: 213,402\n",
            "Non-trainable params: 0\n",
            "_________________________________________________________________\n"
          ],
          "name": "stdout"
        }
      ]
    },
    {
      "cell_type": "code",
      "metadata": {
        "id": "pZtkoYzhnl4m"
      },
      "source": [
        "model.compile(loss='categorical_crossentropy', optimizer='Adam', metrics=['accuracy'])"
      ],
      "execution_count": null,
      "outputs": []
    },
    {
      "cell_type": "code",
      "metadata": {
        "id": "CfB1gTB9oAAe"
      },
      "source": [
        "X_train, X_test, y_train, y_test = train_test_split(data, target,test_size=0.33)"
      ],
      "execution_count": null,
      "outputs": []
    },
    {
      "cell_type": "code",
      "metadata": {
        "id": "mbRHHLgToSAo"
      },
      "source": [
        "early_stopping = EarlyStopping(monitor='val_loss', min_delta=1e-6, patience=3)"
      ],
      "execution_count": null,
      "outputs": []
    },
    {
      "cell_type": "code",
      "metadata": {
        "id": "H6tf9TEioVC-"
      },
      "source": [
        "cb_list = [early_stopping]"
      ],
      "execution_count": null,
      "outputs": []
    },
    {
      "cell_type": "code",
      "metadata": {
        "id": "Mn2sIdPAockw",
        "outputId": "aee5be3b-8d74-4f19-8ce6-45aa17bcf035",
        "colab": {
          "base_uri": "https://localhost:8080/",
          "height": 221
        }
      },
      "source": [
        "model.fit(X_train, y_train, batch_size=64, epochs=20, validation_data=(X_test, y_test), callbacks=cb_list)"
      ],
      "execution_count": null,
      "outputs": [
        {
          "output_type": "stream",
          "text": [
            "Train on 6700 samples, validate on 3300 samples\n",
            "Epoch 1/20\n",
            "6700/6700 [==============================] - 18s 3ms/step - loss: 0.6075 - acc: 0.6504 - val_loss: 0.4099 - val_acc: 0.8161\n",
            "Epoch 2/20\n",
            "6700/6700 [==============================] - 18s 3ms/step - loss: 0.3246 - acc: 0.8639 - val_loss: 0.3466 - val_acc: 0.8545\n",
            "Epoch 3/20\n",
            "6700/6700 [==============================] - 18s 3ms/step - loss: 0.2300 - acc: 0.9136 - val_loss: 0.3613 - val_acc: 0.8445\n",
            "Epoch 4/20\n",
            "6700/6700 [==============================] - 17s 3ms/step - loss: 0.1774 - acc: 0.9363 - val_loss: 0.3975 - val_acc: 0.8355\n",
            "Epoch 5/20\n",
            "6700/6700 [==============================] - 17s 3ms/step - loss: 0.1469 - acc: 0.9448 - val_loss: 0.4254 - val_acc: 0.8415\n"
          ],
          "name": "stdout"
        },
        {
          "output_type": "execute_result",
          "data": {
            "text/plain": [
              "<keras.callbacks.History at 0x7f057cea7ac8>"
            ]
          },
          "metadata": {
            "tags": []
          },
          "execution_count": 54
        }
      ]
    },
    {
      "cell_type": "markdown",
      "metadata": {
        "id": "hIgQ7kJlokpW"
      },
      "source": [
        "\n",
        "\n",
        "```\n",
        "```\n",
        "\n",
        "<h2>Testar nova entrada</h2>"
      ]
    },
    {
      "cell_type": "code",
      "metadata": {
        "id": "LL7njoGoojqu"
      },
      "source": [
        "new_review = 'Ah bah'\n",
        "\n",
        "# Remover tags HTML\n",
        "review_text = bs4.BeautifulSoup(new_review, 'html.parser').get_text()\n",
        "\n",
        "# Remover caracteres especiais, pontuacao e numeros\n",
        "content = unicodedata.normalize('NFKD',review_text)\n",
        "encoded_content = content.encode('ASCII','ignore')\n",
        "review_text = encoded_content.decode('utf-8')\n",
        "review_text = re.sub(r'[!@#$:).;,?&]',' ', review_text)\n",
        "review_text = re.sub('[^a-zA-Z]', ' ', review_text)\n",
        "\n",
        "# Converter para caixa baixa\n",
        "review_text = review_text.lower()\n",
        "\n",
        "# Vetorizar o comentário\n",
        "review_words = review_text.split()\n",
        "\n",
        "# Remover stopwords\n",
        "stops = set(stopwords.words('portuguese'))\n",
        "\n",
        "meaningful_words = [word for word in review_words if not word in stops]\n",
        "\n",
        "processed_new_reviews = []\n",
        "for word in meaningful_words:\n",
        "    processed_new_reviews.append(word_to_id[word])\n",
        "\n",
        "processed_data = np.asarray(processed_new_reviews).reshape(1, len(processed_new_reviews))\n",
        "processed_data = sequence.pad_sequences(processed_data, 100)"
      ],
      "execution_count": null,
      "outputs": []
    },
    {
      "cell_type": "code",
      "metadata": {
        "id": "yJlwVYhK6-Oj",
        "outputId": "bbd00a12-8ecd-48c3-dec2-a12bb6e3a197",
        "colab": {
          "base_uri": "https://localhost:8080/",
          "height": 194
        }
      },
      "source": [
        "processed_data"
      ],
      "execution_count": null,
      "outputs": [
        {
          "output_type": "execute_result",
          "data": {
            "text/plain": [
              "array([[   0,    0,    0,    0,    0,    0,    0,    0,    0,    0,    0,\n",
              "           0,    0,    0,    0,    0,    0,    0,    0,    0,    0,    0,\n",
              "           0,    0,    0,    0,    0,    0,    0,    0,    0,    0,    0,\n",
              "           0,    0,    0,    0,    0,    0,    0,    0,    0,    0,    0,\n",
              "           0,    0,    0,    0,    0,    0,    0,    0,    0,    0,    0,\n",
              "           0,    0,    0,    0,    0,    0,    0,    0,    0,    0,    0,\n",
              "           0,    0,    0,    0,    0,    0,    0,    0,    0,    0,    0,\n",
              "           0,    0,    0,    0,    0,    0,    0,    0,    0,    0,    0,\n",
              "           0,    0,    0,    0,    0,    0,    0,    0,    0,    0, 3882,\n",
              "           0]], dtype=int32)"
            ]
          },
          "metadata": {
            "tags": []
          },
          "execution_count": 77
        }
      ]
    },
    {
      "cell_type": "code",
      "metadata": {
        "id": "1s6t3_et-Fv6",
        "outputId": "71da32c2-d3c2-4c1a-aa51-097cb7184f51",
        "colab": {
          "base_uri": "https://localhost:8080/",
          "height": 34
        }
      },
      "source": [
        "y_pred = model.predict(processed_data)[0]\n",
        "\n",
        "if np.argmax(y_pred) == 0:\n",
        "    sent = 'negativo'\n",
        "elif np.argmax(y_pred) == 1:\n",
        "    sent = 'neutro'\n",
        "else:\n",
        "    sent = 'positivo'\n",
        "\n",
        "\n",
        "print('A predição do sentimento para a entrada \\\"{}\\\" é {}'.format(new_review, sent))"
      ],
      "execution_count": null,
      "outputs": [
        {
          "output_type": "stream",
          "text": [
            "A predição do sentimento para a entrada \"Ah bah\" é positivo\n"
          ],
          "name": "stdout"
        }
      ]
    }
  ]
}